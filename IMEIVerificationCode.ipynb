{
 "cells": [
  {
   "cell_type": "code",
   "execution_count": null,
   "metadata": {},
   "outputs": [],
   "source": [
    "import numpy as np\n",
    "import pandas as pd\n",
    "import matplotlib.pyplot as plt\n",
    "import warnings\n",
    "warnings.filterwarnings(\"ignore\")\n",
    "\n",
    "df=pd.read_excel('/Users/sheenashabana/Downloads/imeiNumbers.xlsx')\n",
    "df=df[['IMEI']]\n",
    "df['Validate'] = df['IMEI']\n",
    "\n",
    "def validateIMEI(imeiNumber):\n",
    "    stringNumber=str(imeiNumber)\n",
    "    if len(stringNumber) != 15:\n",
    "        return False\n",
    "    lastDigit=int(stringNumber[-1])\n",
    "    firstDigits=stringNumber[0:-1]\n",
    "    stringFirstDigits=int(firstDigits)\n",
    "    num_odd=str(stringFirstDigits)[0::2]\n",
    "    num_even=str(stringFirstDigits)[1::2]\n",
    "    sumNum = 0\n",
    "    for digits in num_even:\n",
    "        integerDigits=int(digits)*2\n",
    "        quotient=(int(integerDigits))//10\n",
    "        remainder=(int(integerDigits))%10\n",
    "        if remainder>=2:\n",
    "            quotient=quotient+remainder\n",
    "        sumNum=sumNum+quotient\n",
    "        sumEven=sumNum\n",
    "    for numbers in num_odd:\n",
    "        sumNum= sumNum+int(numbers)\n",
    "    mod_value=sumNum%10\n",
    "    checkDigit=10-mod_value\n",
    "    if (checkDigit==lastDigit):\n",
    "        result=\"Valid\"\n",
    "    else:\n",
    "        result= \"Invalid\"\n",
    "    return result\n",
    "df['Validate'] = df.apply(lambda x: \"Yes\" if validateIMEI(x['IMEI'])==\"Valid\" else \"No\", axis=1)\n",
    "df.to_excel('/Users/sheenashabana/Downloads/imeiNumbers.xlsx', index=False)\n",
    "print('DataFrame is written to Excel File successfully.') "
   ]
  }
 ],
 "metadata": {
  "kernelspec": {
   "display_name": "Python 3",
   "language": "python",
   "name": "python3"
  },
  "language_info": {
   "codemirror_mode": {
    "name": "ipython",
    "version": 3
   },
   "file_extension": ".py",
   "mimetype": "text/x-python",
   "name": "python",
   "nbconvert_exporter": "python",
   "pygments_lexer": "ipython3",
   "version": "3.8.3"
  }
 },
 "nbformat": 4,
 "nbformat_minor": 4
}
